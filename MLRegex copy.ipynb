{
 "cells": [
  {
   "cell_type": "code",
   "execution_count": 38,
   "id": "a87c6465",
   "metadata": {},
   "outputs": [],
   "source": [
    "import os\n",
    "import numpy as np\n",
    "import pandas as pd"
   ]
  },
  {
   "cell_type": "code",
   "execution_count": 39,
   "id": "7c5af88c",
   "metadata": {},
   "outputs": [],
   "source": [
    "DATASET_FOLDER = './dataset/'\n",
    "# test = pd.read_csv(os.path.join(DATASET_FOLDER, 'test.csv'))\n",
    "test = pd.read_csv(os.path.join(DATASET_FOLDER, 'test.csv'))\n",
    "# sample_test = pd.read_csv(os.path.join(DATASET_FOLDER, 'sample_test.csv'))\n",
    "# sample_test_out = pd.read_csv(os.path.join(DATASET_FOLDER, 'sample_test_out.csv'))"
   ]
  },
  {
   "cell_type": "code",
   "execution_count": 40,
   "id": "896aa30a",
   "metadata": {},
   "outputs": [
    {
     "data": {
      "text/html": [
       "<div>\n",
       "<style scoped>\n",
       "    .dataframe tbody tr th:only-of-type {\n",
       "        vertical-align: middle;\n",
       "    }\n",
       "\n",
       "    .dataframe tbody tr th {\n",
       "        vertical-align: top;\n",
       "    }\n",
       "\n",
       "    .dataframe thead th {\n",
       "        text-align: right;\n",
       "    }\n",
       "</style>\n",
       "<table border=\"1\" class=\"dataframe\">\n",
       "  <thead>\n",
       "    <tr style=\"text-align: right;\">\n",
       "      <th></th>\n",
       "      <th>sample_id</th>\n",
       "      <th>catalog_content</th>\n",
       "      <th>image_link</th>\n",
       "    </tr>\n",
       "  </thead>\n",
       "  <tbody>\n",
       "    <tr>\n",
       "      <th>0</th>\n",
       "      <td>100179</td>\n",
       "      <td>Item Name: Rani 14-Spice Eshamaya's Mango Chut...</td>\n",
       "      <td>https://m.media-amazon.com/images/I/71hoAn78AW...</td>\n",
       "    </tr>\n",
       "    <tr>\n",
       "      <th>1</th>\n",
       "      <td>245611</td>\n",
       "      <td>Item Name: Natural MILK TEA Flavoring extract ...</td>\n",
       "      <td>https://m.media-amazon.com/images/I/61ex8NHCIj...</td>\n",
       "    </tr>\n",
       "    <tr>\n",
       "      <th>2</th>\n",
       "      <td>146263</td>\n",
       "      <td>Item Name: Honey Filled Hard Candy - Bulk Pack...</td>\n",
       "      <td>https://m.media-amazon.com/images/I/61KCM61J8e...</td>\n",
       "    </tr>\n",
       "    <tr>\n",
       "      <th>3</th>\n",
       "      <td>95658</td>\n",
       "      <td>Item Name: Vlasic Snack'mm's Kosher Dill 16 Oz...</td>\n",
       "      <td>https://m.media-amazon.com/images/I/51Ex6uOH7y...</td>\n",
       "    </tr>\n",
       "    <tr>\n",
       "      <th>4</th>\n",
       "      <td>36806</td>\n",
       "      <td>Item Name: McCormick Culinary Vanilla Extract,...</td>\n",
       "      <td>https://m.media-amazon.com/images/I/71QYlrOMoS...</td>\n",
       "    </tr>\n",
       "  </tbody>\n",
       "</table>\n",
       "</div>"
      ],
      "text/plain": [
       "   sample_id                                    catalog_content  \\\n",
       "0     100179  Item Name: Rani 14-Spice Eshamaya's Mango Chut...   \n",
       "1     245611  Item Name: Natural MILK TEA Flavoring extract ...   \n",
       "2     146263  Item Name: Honey Filled Hard Candy - Bulk Pack...   \n",
       "3      95658  Item Name: Vlasic Snack'mm's Kosher Dill 16 Oz...   \n",
       "4      36806  Item Name: McCormick Culinary Vanilla Extract,...   \n",
       "\n",
       "                                          image_link  \n",
       "0  https://m.media-amazon.com/images/I/71hoAn78AW...  \n",
       "1  https://m.media-amazon.com/images/I/61ex8NHCIj...  \n",
       "2  https://m.media-amazon.com/images/I/61KCM61J8e...  \n",
       "3  https://m.media-amazon.com/images/I/51Ex6uOH7y...  \n",
       "4  https://m.media-amazon.com/images/I/71QYlrOMoS...  "
      ]
     },
     "execution_count": 40,
     "metadata": {},
     "output_type": "execute_result"
    }
   ],
   "source": [
    "test.head()"
   ]
  },
  {
   "cell_type": "code",
   "execution_count": 41,
   "id": "4c5c110c",
   "metadata": {},
   "outputs": [
    {
     "data": {
      "text/plain": [
       "[60767, 1295, 63632, 37361, 9983]"
      ]
     },
     "execution_count": 41,
     "metadata": {},
     "output_type": "execute_result"
    }
   ],
   "source": [
    "n = test.shape[0]  # 75000\n",
    "example_indices = list(map(int, np.random.choice(n, size=5, replace=False)))\n",
    "example_indices"
   ]
  },
  {
   "cell_type": "code",
   "execution_count": 42,
   "id": "b200468b",
   "metadata": {},
   "outputs": [
    {
     "name": "stdout",
     "output_type": "stream",
     "text": [
      "Example 60767 of 75000\n",
      "Item Name: Satya+Sage Luxury Aesthetic Scented Candle (Meditation, 9oz – Amber, Incense, 50 Hours) | All Natural, Non-Toxic Coconut and Vegan Soy Wax w/Essential Oils for Massage, Relaxation | Hand Poured\n",
      "Bullet Point 1: ✔️ MEDITATION SCENT, AMBER, INCENSE, 9OZ – Meditation from Satya + Sage has rich resins and sultry ambers that partner with the smoky incense notes. . This 9oz candle jar will burn for UP TO 50 HOURS of olfactory enjoyment.\n",
      "Bullet Point 2: ✔️ SAFE FOR YOU AND THE ENVIRONMENT – At Satya + Sage, we use only all-natural and non-toxic ingredients so that what you burn in your space won’t have negative health impacts. Our candles are made from vegan coconut and soy wax, with a cotton wick, and are always dye, zinc, and phthalate free. Our packaging is made from FSC certified material for minimal impact on our forests, and our jars are 100% recyclable and refillable glass.\n",
      "Bullet Point 3: ✔️ PREMIUM-GRADE ESSENTIAL OIL FRAGRANCES – We do not believe in harmful chemical fragrances that can harm you and those you love. That’s why all of our candles are scented with a combination of safe synthetics and essential oils blends, for a cleaner burn and for peace of mind. Our scents contain a mixture of naturally derived ingredients such as essential oils, natural isolates and extracts as well as clean synthetic materials.\n",
      "Bullet Point 4: ✔️ COTTON WICK – All Satya + Sage candles are created with a 100% cotton wick. Cotton wicks are better than wood wicks because they work well with all types of wax. They are easy to light and relight the wick, and you can rest assured our wicks are not dipped in lead, like some candles. Be sure to keep your wick trimmed appropriately for best performance (see below).\n",
      "Bullet Point 5: ✔️ A CANDLE WITH INTENTION – The Satya + Sage promise is to stay true and intentional with each product. Our self-care inspired line of handmade, eco-friendly candles and home fragrance products and aromas are formulated to remind you to slow down, uplift yourself, and create your own sacred space.\n",
      "Product Description: Lifestyle\n",
      "Value: 9.0\n",
      "Unit: Ounce\n",
      "\n",
      "\n",
      "Example 1295 of 75000\n",
      "Item Name: Dessert Topping Shell Flavor Syrup 3 Pack | 3-7.25oz Bottles | (3-7.25 oz., Chocolate)\n",
      "Bullet Point 1: (1) 7.25 oz. Hershey's Chocolate Shell Coating Syrup\n",
      "Bullet Point 2: Enhance the appearance, taste, and texture of ice cream, frozen yogurt, or gelato\n",
      "Bullet Point 3: Freezes to a delicious, crunchy chocolate coating in seconds\n",
      "Bullet Point 4: Does not require refrigeration\n",
      "Bullet Point 5: For best results, turn the bottle upside down and shake well for approximately 30 seconds before dispensing and do not refrigerate\n",
      "Product Description: Dessert Topping Shell Syrup 3 Pack | Hershey's Chocolate (7.25 oz.). Impress and excite ice cream lovers with this Hershey's Chocolate shell topping! Ideal for people of all ages, children will love having the option to cover their frozen treats with a \"magic\" shell while adults will love the textural contrast of a crunchy chocolate shell against their cool, creamy ice cream. Pour over any ice cream flavor and within seconds you will have a fully-hardened, delicious chocolate peanut butter coating. It's as simple as that! Plus, you can easily customize your shell before it hardens by adding sprinkles, chopped nuts, crushed cookie and candy bits, or even sea salt. These shell toppings are packaged in user-friendly 7.25 fl. oz. plastic squeeze bottles for easy, mess-free dispensing and better control. ***For best results, turn the bottle upside down and shake well for approximately 30 seconds before dispensing and do not refrigerate.***\n",
      "Value: 21.5\n",
      "Unit: Fl Oz\n",
      "\n",
      "\n",
      "Example 63632 of 75000\n",
      "Item Name: Valerian Root (Certified Organic) Tea (Loose) (8 oz, ZIN: 518747) - 2 Pack\n",
      "Bullet Point 1: Valerian Root (Certified Organic) Tea (Loose) (8 oz, ZIN: 518747)\n",
      "Bullet Point 2: No fillers.\n",
      "Bullet Point 3: Manufacturer: TerraVita\n",
      "Bullet Point 4: Size: 8 oz\n",
      "Bullet Point 5: Loose Leaf Herbal Tea - Packed in a convenient upright pouch!\n",
      "Product Description: Valerian Root (Certified Organic) Tea (Loose) (8 oz, ZIN: 518747)<BR><BR>Packaged in the United States in a GMP certified facility (Good Manufacturing Practice).<BR><BR>No fillers.<BR><BR>Manufacturer: TerraVita<BR><BR>Size: 8 oz<BR><BR>Loose Leaf Herbal Tea - Packed in a convenient upright pouch!<BR><BR>Ingredients: Valerian Root (Certified Organic)\n",
      "Value: 16.0\n",
      "Unit: Ounce\n",
      "\n",
      "\n",
      "Example 37361 of 75000\n",
      "Item Name: Lindt - Excellence - Dark with a Touch of Sea Salt - 100g\n",
      "Bullet Point: Imported\n",
      "Product Description: <p>Excellence Fleur de Sel offenbart, vor allem fÃ¼r Liebhaber und Kenner feinherber Chocolade, ein auÃŸergewÃhnlich aromatisches Geschmackserlebnis. Die feinherbe Chocolade wird durch zarte Kristalle des Fleur de Sel, dem kostbaren Meersalz, harmonisch ergÃ¤nzt und lÃ¤sst so ein delikates Aroma entstehen. Aufgrund der extra dÃ¼nnen Tafelform entfaltet sich der auÃŸergewÃhnlich lang anhaltende Geschmack optimal. Die MaÃtres Chocolatiers von Lindt stehen seit Ã¼ber 165 Jahren fÃ¼r hÃchste Confiserie-Kunst. Unvergleichlich zart ist der feine Schmelz aller Lindt Chocolade-SpezialitÃ¤ten, der auf die Erfindung der Conche durch Rodolphe Lindt im Jahre 1879 zurÃ¼ckgeht und den Weltruhm des Hauses Lindt & SprÃ¼ngli bis heute begrÃ¼ndet.</p>\n",
      "Value: 3.52\n",
      "Unit: Ounce\n",
      "\n",
      "\n",
      "Example 9983 of 75000\n",
      "Item Name: Colavita Recart Tomatoes - Crushed, 13.76 Ounce (Pack of 16)\n",
      "Bullet Point: Colavita Italian Crushed Tomatoes, No Sugar & Salt Added, Kosher, Non-GMO, 13.76 Ounce (Pack of 16)\n",
      "Value: 220.16\n",
      "Unit: Ounce\n",
      "\n",
      "\n"
     ]
    }
   ],
   "source": [
    "for i in example_indices:\n",
    "    print(f\"Example {i} of {n}\")\n",
    "    print(test.at[i, \"catalog_content\"])\n",
    "    # print(test.iloc[i])\n",
    "    print()"
   ]
  },
  {
   "cell_type": "code",
   "execution_count": 43,
   "id": "40e60eeb",
   "metadata": {},
   "outputs": [],
   "source": [
    "import re \n",
    "\n",
    "\n",
    "# regex to extract \"Item Name: ...\\n\" (case-insensitive, allow end-of-string)\n",
    "_brand_name_pattern = r'(?i)Item Name:\\s*(.*?)\\s*(?:\\n|$)'\n",
    "_value_pattern = r'(?i)Value:\\s*(.*?)\\s*(?:\\n|$)'\n",
    "_unit_pattern = r'(?i)Unit:\\s*(.*?)\\s*(?:\\n|$)'\n",
    "\n",
    "def _extract_item_name(text):\n",
    "    if pd.isna(text):\n",
    "        return np.nan\n",
    "    m = re.search(_brand_name_pattern, str(text))\n",
    "    return m.group(1).strip() if m else np.nan\n",
    "\n",
    "def _extract_value(text):\n",
    "    if pd.isna(text):\n",
    "        return np.nan\n",
    "    m = re.search(_value_pattern, str(text))\n",
    "    return m.group(1).strip() if m else np.nan\n",
    "\n",
    "def _extract_unit(text):\n",
    "    if pd.isna(text):\n",
    "        return np.nan\n",
    "    m = re.search(_unit_pattern, str(text))\n",
    "    return m.group(1).strip() if m else np.nan\n",
    "\n",
    "test['item_name'] = test['catalog_content'].apply(_extract_item_name)\n",
    "test['value'] = test['catalog_content'].apply(_extract_value)\n",
    "test['unit'] = test['catalog_content'].apply(_extract_unit)"
   ]
  },
  {
   "cell_type": "code",
   "execution_count": 44,
   "id": "b155d5b1",
   "metadata": {},
   "outputs": [
    {
     "data": {
      "text/html": [
       "<div>\n",
       "<style scoped>\n",
       "    .dataframe tbody tr th:only-of-type {\n",
       "        vertical-align: middle;\n",
       "    }\n",
       "\n",
       "    .dataframe tbody tr th {\n",
       "        vertical-align: top;\n",
       "    }\n",
       "\n",
       "    .dataframe thead th {\n",
       "        text-align: right;\n",
       "    }\n",
       "</style>\n",
       "<table border=\"1\" class=\"dataframe\">\n",
       "  <thead>\n",
       "    <tr style=\"text-align: right;\">\n",
       "      <th></th>\n",
       "      <th>sample_id</th>\n",
       "      <th>catalog_content</th>\n",
       "      <th>image_link</th>\n",
       "      <th>item_name</th>\n",
       "      <th>value</th>\n",
       "      <th>unit</th>\n",
       "    </tr>\n",
       "  </thead>\n",
       "  <tbody>\n",
       "    <tr>\n",
       "      <th>0</th>\n",
       "      <td>100179</td>\n",
       "      <td>Item Name: Rani 14-Spice Eshamaya's Mango Chut...</td>\n",
       "      <td>https://m.media-amazon.com/images/I/71hoAn78AW...</td>\n",
       "      <td>Rani 14-Spice Eshamaya's Mango Chutney (Indian...</td>\n",
       "      <td>10.5</td>\n",
       "      <td>Ounce</td>\n",
       "    </tr>\n",
       "    <tr>\n",
       "      <th>1</th>\n",
       "      <td>245611</td>\n",
       "      <td>Item Name: Natural MILK TEA Flavoring extract ...</td>\n",
       "      <td>https://m.media-amazon.com/images/I/61ex8NHCIj...</td>\n",
       "      <td>Natural MILK TEA Flavoring extract by HALO PAN...</td>\n",
       "      <td>2.0</td>\n",
       "      <td>Fl Oz</td>\n",
       "    </tr>\n",
       "    <tr>\n",
       "      <th>2</th>\n",
       "      <td>146263</td>\n",
       "      <td>Item Name: Honey Filled Hard Candy - Bulk Pack...</td>\n",
       "      <td>https://m.media-amazon.com/images/I/61KCM61J8e...</td>\n",
       "      <td>Honey Filled Hard Candy - Bulk Pack 2 Pounds -...</td>\n",
       "      <td>32.0</td>\n",
       "      <td>Ounce</td>\n",
       "    </tr>\n",
       "    <tr>\n",
       "      <th>3</th>\n",
       "      <td>95658</td>\n",
       "      <td>Item Name: Vlasic Snack'mm's Kosher Dill 16 Oz...</td>\n",
       "      <td>https://m.media-amazon.com/images/I/51Ex6uOH7y...</td>\n",
       "      <td>Vlasic Snack'mm's Kosher Dill 16 Oz (Pack of 2)</td>\n",
       "      <td>2.0</td>\n",
       "      <td>Count</td>\n",
       "    </tr>\n",
       "    <tr>\n",
       "      <th>4</th>\n",
       "      <td>36806</td>\n",
       "      <td>Item Name: McCormick Culinary Vanilla Extract,...</td>\n",
       "      <td>https://m.media-amazon.com/images/I/71QYlrOMoS...</td>\n",
       "      <td>McCormick Culinary Vanilla Extract, 32 fl oz -...</td>\n",
       "      <td>32.0</td>\n",
       "      <td>Fl Oz</td>\n",
       "    </tr>\n",
       "  </tbody>\n",
       "</table>\n",
       "</div>"
      ],
      "text/plain": [
       "   sample_id                                    catalog_content  \\\n",
       "0     100179  Item Name: Rani 14-Spice Eshamaya's Mango Chut...   \n",
       "1     245611  Item Name: Natural MILK TEA Flavoring extract ...   \n",
       "2     146263  Item Name: Honey Filled Hard Candy - Bulk Pack...   \n",
       "3      95658  Item Name: Vlasic Snack'mm's Kosher Dill 16 Oz...   \n",
       "4      36806  Item Name: McCormick Culinary Vanilla Extract,...   \n",
       "\n",
       "                                          image_link  \\\n",
       "0  https://m.media-amazon.com/images/I/71hoAn78AW...   \n",
       "1  https://m.media-amazon.com/images/I/61ex8NHCIj...   \n",
       "2  https://m.media-amazon.com/images/I/61KCM61J8e...   \n",
       "3  https://m.media-amazon.com/images/I/51Ex6uOH7y...   \n",
       "4  https://m.media-amazon.com/images/I/71QYlrOMoS...   \n",
       "\n",
       "                                           item_name value   unit  \n",
       "0  Rani 14-Spice Eshamaya's Mango Chutney (Indian...  10.5  Ounce  \n",
       "1  Natural MILK TEA Flavoring extract by HALO PAN...   2.0  Fl Oz  \n",
       "2  Honey Filled Hard Candy - Bulk Pack 2 Pounds -...  32.0  Ounce  \n",
       "3    Vlasic Snack'mm's Kosher Dill 16 Oz (Pack of 2)   2.0  Count  \n",
       "4  McCormick Culinary Vanilla Extract, 32 fl oz -...  32.0  Fl Oz  "
      ]
     },
     "execution_count": 44,
     "metadata": {},
     "output_type": "execute_result"
    }
   ],
   "source": [
    "test.head()"
   ]
  },
  {
   "cell_type": "code",
   "execution_count": 45,
   "id": "c997aa8d",
   "metadata": {},
   "outputs": [
    {
     "data": {
      "text/plain": [
       "unit\n",
       "Ounce     40921\n",
       "Count     17458\n",
       "Fl Oz     11171\n",
       "ounce      1963\n",
       "None       1011\n",
       "          ...  \n",
       "Tin           1\n",
       "Liter         1\n",
       "lbs           1\n",
       "Pieces        1\n",
       "Lbs           1\n",
       "Name: count, Length: 110, dtype: int64"
      ]
     },
     "execution_count": 45,
     "metadata": {},
     "output_type": "execute_result"
    }
   ],
   "source": [
    "test['unit'].value_counts()"
   ]
  },
  {
   "cell_type": "code",
   "execution_count": null,
   "id": "7d52156e",
   "metadata": {},
   "outputs": [
    {
     "ename": "RuntimeError",
     "evalue": "Could not find 'catalog_cotent' as a DataFrame column, Series, or list in the notebook namespace.",
     "output_type": "error",
     "traceback": [
      "\u001b[31m---------------------------------------------------------------------------\u001b[39m",
      "\u001b[31mRuntimeError\u001b[39m                              Traceback (most recent call last)",
      "\u001b[36mCell\u001b[39m\u001b[36m \u001b[39m\u001b[32mIn[46]\u001b[39m\u001b[32m, line 60\u001b[39m\n\u001b[32m     58\u001b[39m     \u001b[38;5;28mprint\u001b[39m(\u001b[33m\"\u001b[39m\u001b[33mCreated DataFrame \u001b[39m\u001b[33m'\u001b[39m\u001b[33mdf_with_brands\u001b[39m\u001b[33m'\u001b[39m\u001b[33m from list and added \u001b[39m\u001b[33m'\u001b[39m\u001b[33mbrand\u001b[39m\u001b[33m'\u001b[39m\u001b[33m column\u001b[39m\u001b[33m\"\u001b[39m)\n\u001b[32m     59\u001b[39m \u001b[38;5;28;01melse\u001b[39;00m:\n\u001b[32m---> \u001b[39m\u001b[32m60\u001b[39m     \u001b[38;5;28;01mraise\u001b[39;00m \u001b[38;5;167;01mRuntimeError\u001b[39;00m(\u001b[33m\"\u001b[39m\u001b[33mCould not find \u001b[39m\u001b[33m'\u001b[39m\u001b[33mcatalog_cotent\u001b[39m\u001b[33m'\u001b[39m\u001b[33m as a DataFrame column, Series, or list in the notebook namespace.\u001b[39m\u001b[33m\"\u001b[39m)\n",
      "\u001b[31mRuntimeError\u001b[39m: Could not find 'catalog_cotent' as a DataFrame column, Series, or list in the notebook namespace."
     ]
    }
   ],
   "source": []
  },
  {
   "cell_type": "code",
   "execution_count": null,
   "id": "ca577e8f",
   "metadata": {},
   "outputs": [],
   "source": [
    "def normalize_unit_to_ounce(x):\n",
    "    # preserve NaNs\n",
    "    if pd.isna(x):\n",
    "        return x\n",
    "    s = str(x).strip()\n",
    "    # match \"oz\", \"oz.\", \"ounce\", \"ounces\" (case-insensitive)\n",
    "    if re.search(r'\\boz\\.?\\b|\\bounces?\\b', s, flags=re.I):\n",
    "        return 'ounce'\n",
    "    return s\n",
    "\n",
    "# apply to test dataframe\n",
    "test['unit'] = test['unit'].apply(normalize_unit_to_ounce)"
   ]
  },
  {
   "cell_type": "code",
   "execution_count": null,
   "id": "fc76ec46",
   "metadata": {},
   "outputs": [
    {
     "data": {
      "text/html": [
       "<div>\n",
       "<style scoped>\n",
       "    .dataframe tbody tr th:only-of-type {\n",
       "        vertical-align: middle;\n",
       "    }\n",
       "\n",
       "    .dataframe tbody tr th {\n",
       "        vertical-align: top;\n",
       "    }\n",
       "\n",
       "    .dataframe thead th {\n",
       "        text-align: right;\n",
       "    }\n",
       "</style>\n",
       "<table border=\"1\" class=\"dataframe\">\n",
       "  <thead>\n",
       "    <tr style=\"text-align: right;\">\n",
       "      <th></th>\n",
       "      <th>sample_id</th>\n",
       "      <th>catalog_content</th>\n",
       "      <th>image_link</th>\n",
       "      <th>item_name</th>\n",
       "      <th>value</th>\n",
       "      <th>unit</th>\n",
       "    </tr>\n",
       "  </thead>\n",
       "  <tbody>\n",
       "    <tr>\n",
       "      <th>0</th>\n",
       "      <td>100179</td>\n",
       "      <td>Item Name: Rani 14-Spice Eshamaya's Mango Chut...</td>\n",
       "      <td>https://m.media-amazon.com/images/I/71hoAn78AW...</td>\n",
       "      <td>Rani 14-Spice Eshamaya's Mango Chutney (Indian...</td>\n",
       "      <td>10.5</td>\n",
       "      <td>ounce</td>\n",
       "    </tr>\n",
       "    <tr>\n",
       "      <th>1</th>\n",
       "      <td>245611</td>\n",
       "      <td>Item Name: Natural MILK TEA Flavoring extract ...</td>\n",
       "      <td>https://m.media-amazon.com/images/I/61ex8NHCIj...</td>\n",
       "      <td>Natural MILK TEA Flavoring extract by HALO PAN...</td>\n",
       "      <td>2.0</td>\n",
       "      <td>ounce</td>\n",
       "    </tr>\n",
       "    <tr>\n",
       "      <th>2</th>\n",
       "      <td>146263</td>\n",
       "      <td>Item Name: Honey Filled Hard Candy - Bulk Pack...</td>\n",
       "      <td>https://m.media-amazon.com/images/I/61KCM61J8e...</td>\n",
       "      <td>Honey Filled Hard Candy - Bulk Pack 2 Pounds -...</td>\n",
       "      <td>32.0</td>\n",
       "      <td>ounce</td>\n",
       "    </tr>\n",
       "    <tr>\n",
       "      <th>3</th>\n",
       "      <td>95658</td>\n",
       "      <td>Item Name: Vlasic Snack'mm's Kosher Dill 16 Oz...</td>\n",
       "      <td>https://m.media-amazon.com/images/I/51Ex6uOH7y...</td>\n",
       "      <td>Vlasic Snack'mm's Kosher Dill 16 Oz (Pack of 2)</td>\n",
       "      <td>2.0</td>\n",
       "      <td>Count</td>\n",
       "    </tr>\n",
       "    <tr>\n",
       "      <th>4</th>\n",
       "      <td>36806</td>\n",
       "      <td>Item Name: McCormick Culinary Vanilla Extract,...</td>\n",
       "      <td>https://m.media-amazon.com/images/I/71QYlrOMoS...</td>\n",
       "      <td>McCormick Culinary Vanilla Extract, 32 fl oz -...</td>\n",
       "      <td>32.0</td>\n",
       "      <td>ounce</td>\n",
       "    </tr>\n",
       "  </tbody>\n",
       "</table>\n",
       "</div>"
      ],
      "text/plain": [
       "   sample_id                                    catalog_content  \\\n",
       "0     100179  Item Name: Rani 14-Spice Eshamaya's Mango Chut...   \n",
       "1     245611  Item Name: Natural MILK TEA Flavoring extract ...   \n",
       "2     146263  Item Name: Honey Filled Hard Candy - Bulk Pack...   \n",
       "3      95658  Item Name: Vlasic Snack'mm's Kosher Dill 16 Oz...   \n",
       "4      36806  Item Name: McCormick Culinary Vanilla Extract,...   \n",
       "\n",
       "                                          image_link  \\\n",
       "0  https://m.media-amazon.com/images/I/71hoAn78AW...   \n",
       "1  https://m.media-amazon.com/images/I/61ex8NHCIj...   \n",
       "2  https://m.media-amazon.com/images/I/61KCM61J8e...   \n",
       "3  https://m.media-amazon.com/images/I/51Ex6uOH7y...   \n",
       "4  https://m.media-amazon.com/images/I/71QYlrOMoS...   \n",
       "\n",
       "                                           item_name value   unit  \n",
       "0  Rani 14-Spice Eshamaya's Mango Chutney (Indian...  10.5  ounce  \n",
       "1  Natural MILK TEA Flavoring extract by HALO PAN...   2.0  ounce  \n",
       "2  Honey Filled Hard Candy - Bulk Pack 2 Pounds -...  32.0  ounce  \n",
       "3    Vlasic Snack'mm's Kosher Dill 16 Oz (Pack of 2)   2.0  Count  \n",
       "4  McCormick Culinary Vanilla Extract, 32 fl oz -...  32.0  ounce  "
      ]
     },
     "execution_count": 9,
     "metadata": {},
     "output_type": "execute_result"
    }
   ],
   "source": [
    "test.head()"
   ]
  },
  {
   "cell_type": "code",
   "execution_count": null,
   "id": "5d8b5a9b",
   "metadata": {},
   "outputs": [
    {
     "data": {
      "text/plain": [
       "array(['ounce', 'Count', 'None', 'count', 'each', 'Box', 'pound', 'packs',\n",
       "       'Pack', 'milliliter',\n",
       "       '200 Capsules - Packed Bulk 20 packs of 10 capsules per vacuum sealed pouch',\n",
       "       'gram', 'Packet', 'Pound', 'product_weight', 'grams', 'lb', '1',\n",
       "       'KIT', 'NA', 'fluid_ounces', 'kg', 'tea bags', 'Tea Bags',\n",
       "       'Liters', 'Packs', 'ct', 'millilitro', '2', 'BAG', 'Gram',\n",
       "       'Each / Pack: 1', 'Container', 'pac', 'Milliliters', 'Foot', 'CT',\n",
       "       'Paper Cupcake Liners', 'Each', 'COUNT', 'Bag', 'LB', 'millilitre',\n",
       "       'K-Cups', 'M', 'Sq Ft', 'Bottle', 'bottle', 'g', '0.7 LBS</p>',\n",
       "       'PACK', 'Ltr', 'EA', 'ml', '....', 'unit', 'SACHET', 'ea',\n",
       "       '(Pack of 1)', 'Per Package', 'Jar', 'Tin', 'Liter', 'lbs',\n",
       "       'Pieces', 'Piece', 'Case / Pack: 6', 'bag', 'Gallon', 'JARS',\n",
       "       'BOX', 'Count / Count', 'gallons', 'Pounds', 'Cou',\n",
       "       'Sugar Substitute', 'Pouch', 'Capsules', 'stück', 'jar',\n",
       "       'Comes as a single dispenser unit with 1 count of candy refills',\n",
       "       '12.54', 'Grams', 'mililitro', 'Lbs'], dtype=object)"
      ]
     },
     "execution_count": 10,
     "metadata": {},
     "output_type": "execute_result"
    }
   ],
   "source": [
    "test['unit'].unique()"
   ]
  },
  {
   "cell_type": "code",
   "execution_count": null,
   "id": "97bf6d6e",
   "metadata": {},
   "outputs": [],
   "source": [
    "import pandas as pd\n",
    "import re\n",
    "\n",
    "# ✅ Define normalization map (from our cleaned grouping)\n",
    "unit_map = {\n",
    "    # Weight\n",
    "    'gram': 'Gram', 'grams': 'Gram', 'gramm': 'Gram', 'gr': 'Gram', 'Gram': 'Gram', 'Grams(gm)': 'Gram',\n",
    "    'kg': 'Kilogram',\n",
    "    'pound': 'Pound', 'pounds': 'Pound', 'Pound': 'Pound', 'LB': 'Pound', 'lb': 'Pound',\n",
    "\n",
    "    # Volume\n",
    "    'ml': 'Milliliter', 'millilitre': 'Milliliter', 'milliliter': 'Milliliter',\n",
    "    'mililitro': 'Milliliter', 'Liters': 'Liter', 'ltr': 'Liter', '2.5 gal.': 'Gallon',\n",
    "\n",
    "    # Count / Quantity\n",
    "    'Count': 'Count', 'count': 'Count', 'COUNT': 'Count', 'ct': 'Count', 'CT': 'Count',\n",
    "    'units': 'Count', 'unità': 'Count',\n",
    "    'Each': 'Each', 'each': 'Each',\n",
    "    'Pack': 'Pack', 'pack': 'Pack', 'Packs': 'Pack', 'packs': 'Pack', 'PACK': 'Pack',\n",
    "    'Per Package': 'Pack', 'per Box': 'Box', 'per Carton': 'Box',\n",
    "    'Box': 'Box', 'box': 'Box', 'BOX/12': 'Box', 'Carton': 'Box', 'CASE': 'Box',\n",
    "    'Bag': 'Bag', 'bag': 'Bag', 'Ziplock bags': 'Bag',\n",
    "    'Bottle': 'Bottle', 'bottle': 'Bottle', 'bottles': 'Bottle',\n",
    "    'Can': 'Can', 'can': 'Can', 'Pouch': 'Pouch', 'Piece': 'Piece',\n",
    "    'K-Cups': 'K-Cups', 'Jar': 'Jar', 'capsule': 'capsule',\n",
    "    'Tea Bags': 'Tea Bags', 'Tea bags': 'Tea Bags', 'Paper Cupcake Liners': 'Paper Cupcake Liners',\n",
    "    'Bucket': 'Bucket',\n",
    "\n",
    "    # Area / Length\n",
    "    'sq ft': 'Square Foot', 'Sq Ft': 'Square Foot', 'Foot': 'Foot', 'in': 'Inch'\n",
    "}\n",
    "\n",
    "\n",
    "def normalize_unit(x):\n",
    "    \"\"\"Normalize the 'unit' column based on standard mapping and ounce matching.\"\"\"\n",
    "    if pd.isna(x):\n",
    "        return x\n",
    "\n",
    "    s = str(x).strip()\n",
    "\n",
    "    # ✅ Match ounce variations (extra logic)\n",
    "    if re.search(r'\\boz\\.?\\b|\\bounces?\\b', s, flags=re.I):\n",
    "        return 'Ounce'\n",
    "\n",
    "    # ✅ Normalize case-insensitively using map\n",
    "    s_lower = s.lower()\n",
    "    for k, v in unit_map.items():\n",
    "        if s_lower == k.lower():\n",
    "            return v\n",
    "\n",
    "    # ✅ Default: return original cleaned string\n",
    "    return s\n",
    "\n",
    "\n",
    "# 🧹 Apply normalization\n",
    "test['unit'] = test['unit'].apply(normalize_unit)"
   ]
  },
  {
   "cell_type": "code",
   "execution_count": null,
   "id": "221fc800",
   "metadata": {},
   "outputs": [
    {
     "data": {
      "text/plain": [
       "array(['Ounce', 'Count', 'None', 'Each', 'Box', 'Pound', 'Pack',\n",
       "       'Milliliter',\n",
       "       '200 Capsules - Packed Bulk 20 packs of 10 capsules per vacuum sealed pouch',\n",
       "       'Gram', 'Packet', 'product_weight', '1', 'KIT', 'NA',\n",
       "       'fluid_ounces', 'Kilogram', 'Tea Bags', 'Liter', 'millilitro', '2',\n",
       "       'Bag', 'Each / Pack: 1', 'Container', 'pac', 'Milliliters', 'Foot',\n",
       "       'Paper Cupcake Liners', 'K-Cups', 'M', 'Square Foot', 'Bottle',\n",
       "       'g', '0.7 LBS</p>', 'EA', '....', 'unit', 'SACHET', 'ea',\n",
       "       '(Pack of 1)', 'Jar', 'Tin', 'lbs', 'Pieces', 'Piece',\n",
       "       'Case / Pack: 6', 'Gallon', 'JARS', 'Count / Count', 'gallons',\n",
       "       'Cou', 'Sugar Substitute', 'Pouch', 'Capsules', 'stück',\n",
       "       'Comes as a single dispenser unit with 1 count of candy refills',\n",
       "       '12.54', 'Lbs'], dtype=object)"
      ]
     },
     "execution_count": 12,
     "metadata": {},
     "output_type": "execute_result"
    }
   ],
   "source": [
    "test['unit'].unique()"
   ]
  },
  {
   "cell_type": "code",
   "execution_count": null,
   "id": "80e18ff3",
   "metadata": {},
   "outputs": [],
   "source": [
    "# Define invalid or garbage entries\n",
    "invalid_units = [\n",
    "    'None', '', '-', '---', '1', '8', '24',\n",
    "    'product_weight',\n",
    "    'Each / Pack: 1',\n",
    "    '1 PK. Color(s): -Black. Product Type: -Permanent. Pack Quantity: -1. Tip Type: -Chisel. Dimensions: Overall Product Weight: -0.06 lbs.',\n",
    "    'cm/inch) ??Size:S---US:4---Bust:96cm/37.80---Length:66cm/25.98---Shoulder to sleeve:63cm/24.80 ??Size:M---US:6---Bust:100cm/39.37---Length:67cm/26.38---Shoulder to sleeve:64cm/25.20 ??Size:L---US:8---Bust:104cm/40.94---Length:68cm/26.77---Shoulder to sleeve:65cm/25.59 ??Size:XL---US:10---Bust:108cm/42.52---Length:69cm/27.17---Shoulder to sleeve:66cm/25.98 ??Size:XXL---US:12---Bust:112cm/44.09---Length:70cm/27.56---Shoulder to sleeve:67cm/26.38 ??Size:XXXL---US:14---Bust:116cm/45.67---Length:70cm/27.56---Shoulder to sleeve:68cm/26.77'\n",
    "]\n",
    "\n",
    "def clean_invalid_units(x):\n",
    "    \"\"\"Return None if x is an invalid or meaningless unit.\"\"\"\n",
    "    if pd.isna(x):\n",
    "        return None\n",
    "    s = str(x).strip()\n",
    "    if s in invalid_units:\n",
    "        return None\n",
    "    return s\n",
    "\n",
    "# 🧹 Apply the filter\n",
    "test['unit'] = test['unit'].apply(clean_invalid_units)"
   ]
  },
  {
   "cell_type": "code",
   "execution_count": null,
   "id": "07c41801",
   "metadata": {},
   "outputs": [
    {
     "data": {
      "text/plain": [
       "unit\n",
       "Ounce                                                                         55327\n",
       "Count                                                                         18226\n",
       "Pound                                                                           219\n",
       "Pack                                                                             38\n",
       "Gram                                                                             35\n",
       "Each                                                                             17\n",
       "Milliliter                                                                       17\n",
       "Liter                                                                             9\n",
       "Bottle                                                                            9\n",
       "Bag                                                                               7\n",
       "Box                                                                               5\n",
       "Jar                                                                               4\n",
       "Foot                                                                              4\n",
       "Tea Bags                                                                          4\n",
       "K-Cups                                                                            3\n",
       "Packet                                                                            3\n",
       "Paper Cupcake Liners                                                              3\n",
       "Kilogram                                                                          2\n",
       "Piece                                                                             2\n",
       "Gallon                                                                            2\n",
       "EA                                                                                2\n",
       "Square Foot                                                                       2\n",
       "pac                                                                               2\n",
       "Cou                                                                               1\n",
       "Tin                                                                               1\n",
       "Comes as a single dispenser unit with 1 count of candy refills                    1\n",
       "gallons                                                                           1\n",
       "Pouch                                                                             1\n",
       "12.54                                                                             1\n",
       "Count / Count                                                                     1\n",
       "JARS                                                                              1\n",
       "Sugar Substitute                                                                  1\n",
       "Case / Pack: 6                                                                    1\n",
       "stück                                                                             1\n",
       "Pieces                                                                            1\n",
       "lbs                                                                               1\n",
       "Capsules                                                                          1\n",
       "....                                                                              1\n",
       "(Pack of 1)                                                                       1\n",
       "ea                                                                                1\n",
       "SACHET                                                                            1\n",
       "unit                                                                              1\n",
       "KIT                                                                               1\n",
       "0.7 LBS</p>                                                                       1\n",
       "g                                                                                 1\n",
       "M                                                                                 1\n",
       "Milliliters                                                                       1\n",
       "Container                                                                         1\n",
       "2                                                                                 1\n",
       "millilitro                                                                        1\n",
       "200 Capsules - Packed Bulk 20 packs of 10 capsules per vacuum sealed pouch        1\n",
       "fluid_ounces                                                                      1\n",
       "NA                                                                                1\n",
       "Lbs                                                                               1\n",
       "Name: count, dtype: int64"
      ]
     },
     "execution_count": 14,
     "metadata": {},
     "output_type": "execute_result"
    }
   ],
   "source": [
    "test['unit'].value_counts()"
   ]
  },
  {
   "cell_type": "code",
   "execution_count": null,
   "id": "150451ad",
   "metadata": {},
   "outputs": [],
   "source": [
    "# define item-type units to merge into \"Count\"\n",
    "count_like_units = [\n",
    "    'Pack', 'Each', 'Box', 'Bottle', 'Can', 'Pouch', 'Bag', 'Jar',\n",
    "    'K-Cups', 'Piece', 'Tea Bags', 'Bucket', 'capsule', 'Paper Cupcake Liners'\n",
    "]\n",
    "\n",
    "def merge_packaging_units(x):\n",
    "    \"\"\"Merge packaging / count-like units into 'Count'.\"\"\"\n",
    "    if pd.isna(x):\n",
    "        return x\n",
    "    s = str(x).strip()\n",
    "    if s in count_like_units:\n",
    "        return 'Count'\n",
    "    return s\n",
    "\n",
    "# 🧹 Apply transformation\n",
    "test['unit'] = test['unit'].apply(merge_packaging_units)"
   ]
  },
  {
   "cell_type": "code",
   "execution_count": null,
   "id": "9cbe8745",
   "metadata": {},
   "outputs": [
    {
     "data": {
      "text/plain": [
       "unit\n",
       "Ounce                                                                         55327\n",
       "Count                                                                         18319\n",
       "Pound                                                                           219\n",
       "Gram                                                                             35\n",
       "Milliliter                                                                       17\n",
       "Liter                                                                             9\n",
       "Foot                                                                              4\n",
       "Packet                                                                            3\n",
       "Gallon                                                                            2\n",
       "pac                                                                               2\n",
       "Square Foot                                                                       2\n",
       "EA                                                                                2\n",
       "Kilogram                                                                          2\n",
       "Case / Pack: 6                                                                    1\n",
       "Pieces                                                                            1\n",
       "lbs                                                                               1\n",
       "JARS                                                                              1\n",
       "Cou                                                                               1\n",
       "Count / Count                                                                     1\n",
       "gallons                                                                           1\n",
       "(Pack of 1)                                                                       1\n",
       "Sugar Substitute                                                                  1\n",
       "Capsules                                                                          1\n",
       "stück                                                                             1\n",
       "Comes as a single dispenser unit with 1 count of candy refills                    1\n",
       "12.54                                                                             1\n",
       "Tin                                                                               1\n",
       "0.7 LBS</p>                                                                       1\n",
       "ea                                                                                1\n",
       "SACHET                                                                            1\n",
       "unit                                                                              1\n",
       "....                                                                              1\n",
       "g                                                                                 1\n",
       "M                                                                                 1\n",
       "Milliliters                                                                       1\n",
       "Container                                                                         1\n",
       "2                                                                                 1\n",
       "millilitro                                                                        1\n",
       "fluid_ounces                                                                      1\n",
       "NA                                                                                1\n",
       "KIT                                                                               1\n",
       "200 Capsules - Packed Bulk 20 packs of 10 capsules per vacuum sealed pouch        1\n",
       "Lbs                                                                               1\n",
       "Name: count, dtype: int64"
      ]
     },
     "execution_count": 16,
     "metadata": {},
     "output_type": "execute_result"
    }
   ],
   "source": [
    "test['unit'].value_counts()"
   ]
  },
  {
   "cell_type": "code",
   "execution_count": null,
   "id": "10975d86",
   "metadata": {},
   "outputs": [],
   "source": []
  },
  {
   "cell_type": "code",
   "execution_count": null,
   "id": "2a680a56",
   "metadata": {},
   "outputs": [],
   "source": []
  },
  {
   "cell_type": "code",
   "execution_count": null,
   "id": "1409ec2b",
   "metadata": {},
   "outputs": [],
   "source": [
    "test.to_csv('./dataset/test_cleaned_units.csv', index=False)"
   ]
  },
  {
   "cell_type": "code",
   "execution_count": null,
   "id": "52aa0750",
   "metadata": {},
   "outputs": [
    {
     "data": {
      "text/plain": [
       "75000"
      ]
     },
     "execution_count": 18,
     "metadata": {},
     "output_type": "execute_result"
    }
   ],
   "source": [
    "# Check the length of the dataset  \n",
    "len(test)"
   ]
  },
  {
   "cell_type": "code",
   "execution_count": null,
   "id": "57a30cc6",
   "metadata": {},
   "outputs": [
    {
     "data": {
      "text/plain": [
       "np.int64(1027)"
      ]
     },
     "execution_count": 19,
     "metadata": {},
     "output_type": "execute_result"
    }
   ],
   "source": [
    "test['unit'].isna().sum()\n",
    "test['unit'].isnull().sum()"
   ]
  },
  {
   "cell_type": "code",
   "execution_count": null,
   "id": "7d746243",
   "metadata": {},
   "outputs": [
    {
     "data": {
      "text/html": [
       "<div>\n",
       "<style scoped>\n",
       "    .dataframe tbody tr th:only-of-type {\n",
       "        vertical-align: middle;\n",
       "    }\n",
       "\n",
       "    .dataframe tbody tr th {\n",
       "        vertical-align: top;\n",
       "    }\n",
       "\n",
       "    .dataframe thead th {\n",
       "        text-align: right;\n",
       "    }\n",
       "</style>\n",
       "<table border=\"1\" class=\"dataframe\">\n",
       "  <thead>\n",
       "    <tr style=\"text-align: right;\">\n",
       "      <th></th>\n",
       "      <th>sample_id</th>\n",
       "      <th>catalog_content</th>\n",
       "      <th>image_link</th>\n",
       "      <th>item_name</th>\n",
       "      <th>value</th>\n",
       "      <th>unit</th>\n",
       "    </tr>\n",
       "  </thead>\n",
       "  <tbody>\n",
       "    <tr>\n",
       "      <th>0</th>\n",
       "      <td>100179</td>\n",
       "      <td>Item Name: Rani 14-Spice Eshamaya's Mango Chut...</td>\n",
       "      <td>https://m.media-amazon.com/images/I/71hoAn78AW...</td>\n",
       "      <td>Rani 14-Spice Eshamaya's Mango Chutney (Indian...</td>\n",
       "      <td>10.5</td>\n",
       "      <td>Ounce</td>\n",
       "    </tr>\n",
       "    <tr>\n",
       "      <th>1</th>\n",
       "      <td>245611</td>\n",
       "      <td>Item Name: Natural MILK TEA Flavoring extract ...</td>\n",
       "      <td>https://m.media-amazon.com/images/I/61ex8NHCIj...</td>\n",
       "      <td>Natural MILK TEA Flavoring extract by HALO PAN...</td>\n",
       "      <td>2.0</td>\n",
       "      <td>Ounce</td>\n",
       "    </tr>\n",
       "    <tr>\n",
       "      <th>2</th>\n",
       "      <td>146263</td>\n",
       "      <td>Item Name: Honey Filled Hard Candy - Bulk Pack...</td>\n",
       "      <td>https://m.media-amazon.com/images/I/61KCM61J8e...</td>\n",
       "      <td>Honey Filled Hard Candy - Bulk Pack 2 Pounds -...</td>\n",
       "      <td>32.0</td>\n",
       "      <td>Ounce</td>\n",
       "    </tr>\n",
       "    <tr>\n",
       "      <th>3</th>\n",
       "      <td>95658</td>\n",
       "      <td>Item Name: Vlasic Snack'mm's Kosher Dill 16 Oz...</td>\n",
       "      <td>https://m.media-amazon.com/images/I/51Ex6uOH7y...</td>\n",
       "      <td>Vlasic Snack'mm's Kosher Dill 16 Oz (Pack of 2)</td>\n",
       "      <td>2.0</td>\n",
       "      <td>Count</td>\n",
       "    </tr>\n",
       "    <tr>\n",
       "      <th>4</th>\n",
       "      <td>36806</td>\n",
       "      <td>Item Name: McCormick Culinary Vanilla Extract,...</td>\n",
       "      <td>https://m.media-amazon.com/images/I/71QYlrOMoS...</td>\n",
       "      <td>McCormick Culinary Vanilla Extract, 32 fl oz -...</td>\n",
       "      <td>32.0</td>\n",
       "      <td>Ounce</td>\n",
       "    </tr>\n",
       "  </tbody>\n",
       "</table>\n",
       "</div>"
      ],
      "text/plain": [
       "   sample_id                                    catalog_content  \\\n",
       "0     100179  Item Name: Rani 14-Spice Eshamaya's Mango Chut...   \n",
       "1     245611  Item Name: Natural MILK TEA Flavoring extract ...   \n",
       "2     146263  Item Name: Honey Filled Hard Candy - Bulk Pack...   \n",
       "3      95658  Item Name: Vlasic Snack'mm's Kosher Dill 16 Oz...   \n",
       "4      36806  Item Name: McCormick Culinary Vanilla Extract,...   \n",
       "\n",
       "                                          image_link  \\\n",
       "0  https://m.media-amazon.com/images/I/71hoAn78AW...   \n",
       "1  https://m.media-amazon.com/images/I/61ex8NHCIj...   \n",
       "2  https://m.media-amazon.com/images/I/61KCM61J8e...   \n",
       "3  https://m.media-amazon.com/images/I/51Ex6uOH7y...   \n",
       "4  https://m.media-amazon.com/images/I/71QYlrOMoS...   \n",
       "\n",
       "                                           item_name value   unit  \n",
       "0  Rani 14-Spice Eshamaya's Mango Chutney (Indian...  10.5  Ounce  \n",
       "1  Natural MILK TEA Flavoring extract by HALO PAN...   2.0  Ounce  \n",
       "2  Honey Filled Hard Candy - Bulk Pack 2 Pounds -...  32.0  Ounce  \n",
       "3    Vlasic Snack'mm's Kosher Dill 16 Oz (Pack of 2)   2.0  Count  \n",
       "4  McCormick Culinary Vanilla Extract, 32 fl oz -...  32.0  Ounce  "
      ]
     },
     "execution_count": 20,
     "metadata": {},
     "output_type": "execute_result"
    }
   ],
   "source": [
    "test.head()"
   ]
  },
  {
   "cell_type": "code",
   "execution_count": null,
   "id": "d066e0f5",
   "metadata": {},
   "outputs": [
    {
     "data": {
      "text/plain": [
       "np.int64(0)"
      ]
     },
     "execution_count": 21,
     "metadata": {},
     "output_type": "execute_result"
    }
   ],
   "source": [
    "test['value'].isna().sum()\n",
    "test['value'].isnull().sum()"
   ]
  }
 ],
 "metadata": {
  "kernelspec": {
   "display_name": "ml_env",
   "language": "python",
   "name": "python3"
  },
  "language_info": {
   "codemirror_mode": {
    "name": "ipython",
    "version": 3
   },
   "file_extension": ".py",
   "mimetype": "text/x-python",
   "name": "python",
   "nbconvert_exporter": "python",
   "pygments_lexer": "ipython3",
   "version": "3.11.13"
  }
 },
 "nbformat": 4,
 "nbformat_minor": 5
}
