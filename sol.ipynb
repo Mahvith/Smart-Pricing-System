{
 "cells": [
  {
   "cell_type": "markdown",
   "id": "7c2af81d",
   "metadata": {},
   "source": [
    "# ML Challenge 2025 Problem Statement\n",
    "\n",
    "## Smart Product Pricing Challenge\n",
    "\n",
    "In e-commerce, determining the optimal price point for products is crucial for marketplace success and customer satisfaction. Your challenge is to develop an ML solution that analyzes product details and predict the price of the product. The relationship between product attributes and pricing is complex - with factors like brand, specifications, product quantity directly influence pricing. Your task is to build a model that can analyze these product details holistically and suggest an optimal price.\n",
    "\n",
    "### Data Description:\n",
    "\n",
    "The dataset consists of the following columns:\n",
    "\n",
    "1. **sample_id:** A unique identifier for the input sample\n",
    "2. **catalog_content:** Text field containing title, product description and an Item Pack Quantity(IPQ) concatenated.\n",
    "3. **image_link:** Public URL where the product image is available for download. \n",
    "   Example link - https://m.media-amazon.com/images/I/71XfHPR36-L.jpg\n",
    "   To download images use `download_images` function from `src/utils.py`. See sample code in `src/test.ipynb`.\n",
    "4. **price:** Price of the product (Target variable - only available in training data)\n",
    "\n",
    "### Dataset Details:\n",
    "\n",
    "- **Training Dataset:** 75k products with complete product details and prices\n",
    "- **Test Set:** 75k products for final evaluation\n",
    "\n",
    "### Output Format:\n",
    "\n",
    "The output file should be a CSV with 2 columns:\n",
    "\n",
    "1. **sample_id:** The unique identifier of the data sample. Note the ID should match the test record sample_id.\n",
    "2. **price:** A float value representing the predicted price of the product.\n",
    "\n",
    "Note: Make sure to output a prediction for all sample IDs. If you have less/more number of output samples in the output file as compared to test.csv, your output won't be evaluated.\n",
    "\n",
    "### File Descriptions:\n",
    "\n",
    "*Source files*\n",
    "\n",
    "1. **src/utils.py:** Contains helper functions for downloading images from the image_link. You may need to retry a few times to download all images due to possible throttling issues.\n",
    "2. **sample_code.py:** Sample dummy code that can generate an output file in the given format. Usage of this file is optional.\n",
    "\n",
    "*Dataset files*\n",
    "\n",
    "1. **dataset/train.csv:** Training file with labels (`price`).\n",
    "2. **dataset/test.csv:** Test file without output labels (`price`). Generate predictions using your model/solution on this file's data and format the output file to match sample_test_out.csv\n",
    "3. **dataset/sample_test.csv:** Sample test input file.\n",
    "4. **dataset/sample_test_out.csv:** Sample outputs for sample_test.csv. The output for test.csv must be formatted in the exact same way. Note: The predictions in the file might not be correct\n",
    "\n",
    "### Constraints:\n",
    "\n",
    "1. You will be provided with a sample output file. Format your output to match the sample output file exactly. \n",
    "\n",
    "2. Predicted prices must be positive float values.\n",
    "\n",
    "3. Final model should be a MIT/Apache 2.0 License model and up to 8 Billion parameters.\n",
    "\n",
    "### Evaluation Criteria:\n",
    "\n",
    "Submissions are evaluated using **Symmetric Mean Absolute Percentage Error (SMAPE)**: A statistical measure that expresses the relative difference between predicted and actual values as a percentage, while treating positive and negative errors equally.\n",
    "\n",
    "**Formula:**\n",
    "```\n",
    "SMAPE = (1/n) * Σ |predicted_price - actual_price| / ((|actual_price| + |predicted_price|)/2)\n",
    "```\n",
    "\n",
    "**Example:** If actual price = $100 and predicted price = $120  \n",
    "SMAPE = |100-120| / ((|100| + |120|)/2) * 100% = 18.18%\n",
    "\n",
    "**Note:** SMAPE is bounded between 0% and 200%. Lower values indicate better performance.\n",
    "\n",
    "### Leaderboard Information:\n",
    "\n",
    "- **Public Leaderboard:** During the challenge, rankings will be based on 25K samples from the test set to provide real-time feedback on your model's performance.\n",
    "- **Final Rankings:** The final decision will be based on performance on the complete 75K test set along with provided documentation of the proposed approach by the teams.\n",
    "\n",
    "### Submission Requirements:\n",
    "\n",
    "1. Upload a `test_out.csv` file in the Portal with the exact same formatting as `sample_test_out.csv`\n",
    "\n",
    "2. All participating teams must also provide a 1-page document describing:\n",
    "   - Methodology used\n",
    "   - Model architecture/algorithms selected\n",
    "   - Feature engineering techniques applied\n",
    "   - Any other relevant information about the approach\n",
    "   Note: A sample template for this documentation is provided in Documentation_template.md\n",
    "\n",
    "### **Academic Integrity and Fair Play:**\n",
    "\n",
    "**⚠️ STRICTLY PROHIBITED: External Price Lookup**\n",
    "\n",
    "Participants are **STRICTLY NOT ALLOWED** to obtain prices from the internet, external databases, or any sources outside the provided dataset. This includes but is not limited to:\n",
    "- Web scraping product prices from e-commerce websites\n",
    "- Using APIs to fetch current market prices\n",
    "- Manual price lookup from online sources\n",
    "- Using any external pricing databases or services\n",
    "\n",
    "**Enforcement:**\n",
    "- All submitted approaches, methodologies, and code pipelines will be thoroughly reviewed and verified\n",
    "- Any evidence of external price lookup or data augmentation from internet sources will result in **immediate disqualification**\n",
    "\n",
    "**Fair Play:** This challenge is designed to test your machine learning and data science skills using only the provided training data. External price lookup defeats the purpose of the challenge.\n",
    "\n",
    "\n",
    "### Tips for Success:\n",
    "\n",
    "- Consider both textual features (catalog_content) and visual features (product images)\n",
    "- Explore feature engineering techniques for text and image data\n",
    "- Consider ensemble methods combining different model types\n",
    "- Pay attention to outliers and data preprocessing\n"
   ]
  },
  {
   "cell_type": "code",
   "execution_count": 3,
   "id": "2316ba5c",
   "metadata": {},
   "outputs": [],
   "source": [
    "import numpy as np\n",
    "import pandas as pd"
   ]
  },
  {
   "cell_type": "code",
   "execution_count": 13,
   "id": "0625c533",
   "metadata": {},
   "outputs": [],
   "source": [
    "df = pd.read_csv(\"./dataset/train.csv\")"
   ]
  },
  {
   "cell_type": "code",
   "execution_count": 14,
   "id": "adca900e",
   "metadata": {},
   "outputs": [
    {
     "data": {
      "text/plain": [
       "Index(['sample_id', 'catalog_content', 'image_link', 'price'], dtype='object')"
      ]
     },
     "execution_count": 14,
     "metadata": {},
     "output_type": "execute_result"
    }
   ],
   "source": [
    "df.columns"
   ]
  },
  {
   "cell_type": "code",
   "execution_count": 18,
   "id": "1f094c59",
   "metadata": {},
   "outputs": [
    {
     "data": {
      "text/html": [
       "<div>\n",
       "<style scoped>\n",
       "    .dataframe tbody tr th:only-of-type {\n",
       "        vertical-align: middle;\n",
       "    }\n",
       "\n",
       "    .dataframe tbody tr th {\n",
       "        vertical-align: top;\n",
       "    }\n",
       "\n",
       "    .dataframe thead th {\n",
       "        text-align: right;\n",
       "    }\n",
       "</style>\n",
       "<table border=\"1\" class=\"dataframe\">\n",
       "  <thead>\n",
       "    <tr style=\"text-align: right;\">\n",
       "      <th></th>\n",
       "      <th>sample_id</th>\n",
       "      <th>catalog_content</th>\n",
       "      <th>image_link</th>\n",
       "      <th>price</th>\n",
       "    </tr>\n",
       "  </thead>\n",
       "  <tbody>\n",
       "    <tr>\n",
       "      <th>0</th>\n",
       "      <td>33127</td>\n",
       "      <td>Item Name: La Victoria Green Taco Sauce Mild, ...</td>\n",
       "      <td>https://m.media-amazon.com/images/I/51mo8htwTH...</td>\n",
       "      <td>4.89</td>\n",
       "    </tr>\n",
       "    <tr>\n",
       "      <th>1</th>\n",
       "      <td>198967</td>\n",
       "      <td>Item Name: Salerno Cookies, The Original Butte...</td>\n",
       "      <td>https://m.media-amazon.com/images/I/71YtriIHAA...</td>\n",
       "      <td>13.12</td>\n",
       "    </tr>\n",
       "    <tr>\n",
       "      <th>2</th>\n",
       "      <td>261251</td>\n",
       "      <td>Item Name: Bear Creek Hearty Soup Bowl, Creamy...</td>\n",
       "      <td>https://m.media-amazon.com/images/I/51+PFEe-w-...</td>\n",
       "      <td>1.97</td>\n",
       "    </tr>\n",
       "    <tr>\n",
       "      <th>3</th>\n",
       "      <td>55858</td>\n",
       "      <td>Item Name: Judee’s Blue Cheese Powder 11.25 oz...</td>\n",
       "      <td>https://m.media-amazon.com/images/I/41mu0HAToD...</td>\n",
       "      <td>30.34</td>\n",
       "    </tr>\n",
       "    <tr>\n",
       "      <th>4</th>\n",
       "      <td>292686</td>\n",
       "      <td>Item Name: kedem Sherry Cooking Wine, 12.7 Oun...</td>\n",
       "      <td>https://m.media-amazon.com/images/I/41sA037+Qv...</td>\n",
       "      <td>66.49</td>\n",
       "    </tr>\n",
       "  </tbody>\n",
       "</table>\n",
       "</div>"
      ],
      "text/plain": [
       "   sample_id                                    catalog_content  \\\n",
       "0      33127  Item Name: La Victoria Green Taco Sauce Mild, ...   \n",
       "1     198967  Item Name: Salerno Cookies, The Original Butte...   \n",
       "2     261251  Item Name: Bear Creek Hearty Soup Bowl, Creamy...   \n",
       "3      55858  Item Name: Judee’s Blue Cheese Powder 11.25 oz...   \n",
       "4     292686  Item Name: kedem Sherry Cooking Wine, 12.7 Oun...   \n",
       "\n",
       "                                          image_link  price  \n",
       "0  https://m.media-amazon.com/images/I/51mo8htwTH...   4.89  \n",
       "1  https://m.media-amazon.com/images/I/71YtriIHAA...  13.12  \n",
       "2  https://m.media-amazon.com/images/I/51+PFEe-w-...   1.97  \n",
       "3  https://m.media-amazon.com/images/I/41mu0HAToD...  30.34  \n",
       "4  https://m.media-amazon.com/images/I/41sA037+Qv...  66.49  "
      ]
     },
     "execution_count": 18,
     "metadata": {},
     "output_type": "execute_result"
    }
   ],
   "source": [
    "df.head()"
   ]
  },
  {
   "cell_type": "code",
   "execution_count": 20,
   "id": "0e2e0d00",
   "metadata": {},
   "outputs": [
    {
     "name": "stderr",
     "output_type": "stream",
     "text": [
      "/var/folders/rp/54g2ts_d5_7_tzbt0mmpg4_h0000gn/T/ipykernel_5982/3163812330.py:1: FutureWarning: Series.__getitem__ treating keys as positions is deprecated. In a future version, integer keys will always be treated as labels (consistent with DataFrame behavior). To access a value by position, use `ser.iloc[pos]`\n",
      "  df.loc[1][2]\n"
     ]
    },
    {
     "data": {
      "text/plain": [
       "'https://m.media-amazon.com/images/I/71YtriIHAAL.jpg'"
      ]
     },
     "execution_count": 20,
     "metadata": {},
     "output_type": "execute_result"
    }
   ],
   "source": [
    "df.loc[1][2]"
   ]
  },
  {
   "cell_type": "code",
   "execution_count": 19,
   "id": "7af567b6",
   "metadata": {},
   "outputs": [
    {
     "name": "stdout",
     "output_type": "stream",
     "text": [
      "Item Name: Salerno Cookies, The Original Butter Cookies, 8 Ounce (Pack of 4)\n",
      "Bullet Point 1: Original Butter Cookies: Classic butter cookies made with real butter\n",
      "Bullet Point 2: Variety Pack: Includes 4 boxes with 32 cookies total\n",
      "Bullet Point 3: Occasion Perfect: Delicious cookies for birthdays, weddings, anniversaries\n",
      "Bullet Point 4: Shareable Treats: Fun to give and enjoy with friends and family\n",
      "Bullet Point 5: Salerno Brand: Trusted brand of delicious butter cookies since 1925\n",
      "Value: 32.0\n",
      "Unit: Ounce\n",
      "\n"
     ]
    }
   ],
   "source": [
    "print('Item Name: Salerno Cookies, The Original Butter Cookies, 8 Ounce (Pack of 4)\\nBullet Point 1: Original Butter Cookies: Classic butter cookies made with real butter\\nBullet Point 2: Variety Pack: Includes 4 boxes with 32 cookies total\\nBullet Point 3: Occasion Perfect: Delicious cookies for birthdays, weddings, anniversaries\\nBullet Point 4: Shareable Treats: Fun to give and enjoy with friends and family\\nBullet Point 5: Salerno Brand: Trusted brand of delicious butter cookies since 1925\\nValue: 32.0\\nUnit: Ounce\\n'\n",
    ")"
   ]
  },
  {
   "cell_type": "code",
   "execution_count": null,
   "id": "b9e5f083",
   "metadata": {},
   "outputs": [],
   "source": []
  },
  {
   "cell_type": "code",
   "execution_count": 12,
   "id": "fbdc06f8",
   "metadata": {},
   "outputs": [
    {
     "ename": "ModuleNotFoundError",
     "evalue": "No module named 'wordcloud'",
     "output_type": "error",
     "traceback": [
      "\u001b[31m---------------------------------------------------------------------------\u001b[39m",
      "\u001b[31mModuleNotFoundError\u001b[39m                       Traceback (most recent call last)",
      "\u001b[36mCell\u001b[39m\u001b[36m \u001b[39m\u001b[32mIn[12]\u001b[39m\u001b[32m, line 10\u001b[39m\n\u001b[32m      7\u001b[39m \u001b[38;5;28;01mimport\u001b[39;00m\u001b[38;5;250m \u001b[39m\u001b[34;01mstring\u001b[39;00m\n\u001b[32m      9\u001b[39m \u001b[38;5;66;03m# For text analysis\u001b[39;00m\n\u001b[32m---> \u001b[39m\u001b[32m10\u001b[39m \u001b[38;5;28;01mfrom\u001b[39;00m\u001b[38;5;250m \u001b[39m\u001b[34;01mwordcloud\u001b[39;00m\u001b[38;5;250m \u001b[39m\u001b[38;5;28;01mimport\u001b[39;00m WordCloud\n\u001b[32m     11\u001b[39m \u001b[38;5;28;01mfrom\u001b[39;00m\u001b[38;5;250m \u001b[39m\u001b[34;01msklearn\u001b[39;00m\u001b[34;01m.\u001b[39;00m\u001b[34;01mfeature_extraction\u001b[39;00m\u001b[34;01m.\u001b[39;00m\u001b[34;01mtext\u001b[39;00m\u001b[38;5;250m \u001b[39m\u001b[38;5;28;01mimport\u001b[39;00m CountVectorizer\n\u001b[32m     13\u001b[39m \u001b[38;5;66;03m# Display settings\u001b[39;00m\n",
      "\u001b[31mModuleNotFoundError\u001b[39m: No module named 'wordcloud'"
     ]
    }
   ],
   "source": [
    "# Basic libraries\n",
    "import pandas as pd\n",
    "import numpy as np\n",
    "import matplotlib.pyplot as plt\n",
    "import seaborn as sns\n",
    "import re\n",
    "import string\n",
    "\n",
    "# For text analysis\n",
    "from wordcloud import WordCloud\n",
    "from sklearn.feature_extraction.text import CountVectorizer\n",
    "\n",
    "# Display settings\n",
    "pd.set_option('display.max_colwidth', 200)\n",
    "sns.set(style='whitegrid', palette='pastel')\n"
   ]
  },
  {
   "cell_type": "code",
   "execution_count": null,
   "id": "bec8f01c",
   "metadata": {},
   "outputs": [],
   "source": []
  }
 ],
 "metadata": {
  "kernelspec": {
   "display_name": "ml_env",
   "language": "python",
   "name": "python3"
  },
  "language_info": {
   "codemirror_mode": {
    "name": "ipython",
    "version": 3
   },
   "file_extension": ".py",
   "mimetype": "text/x-python",
   "name": "python",
   "nbconvert_exporter": "python",
   "pygments_lexer": "ipython3",
   "version": "3.11.13"
  }
 },
 "nbformat": 4,
 "nbformat_minor": 5
}
